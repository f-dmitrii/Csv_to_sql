{
 "cells": [
  {
   "cell_type": "markdown",
   "id": "1dfef3a1",
   "metadata": {},
   "source": [
    "# Скрипт для загрузки данных из EXCEL в SQL (PostgreSQL)"
   ]
  },
  {
   "cell_type": "code",
   "execution_count": 1,
   "id": "a8fde494",
   "metadata": {},
   "outputs": [],
   "source": [
    "# импортируем pandas\n",
    "import pandas as pd"
   ]
  },
  {
   "cell_type": "code",
   "execution_count": 2,
   "id": "b646c998",
   "metadata": {},
   "outputs": [],
   "source": [
    "# загружаем наш файл Excel или CSV (для excel используйте read_excel)\n",
    "# обращайте внимание на тип разделителя значений (в случае с excel - какой лист загружается) и другие параметры\n",
    "df = pd.read_csv('/Users/dmitrii/Documents/GitHub/DE-101/Module01/Sample - Superstore.csv', delimiter=';')"
   ]
  },
  {
   "cell_type": "code",
   "execution_count": 3,
   "id": "b8f89e69",
   "metadata": {},
   "outputs": [
    {
     "data": {
      "text/html": [
       "<div>\n",
       "<style scoped>\n",
       "    .dataframe tbody tr th:only-of-type {\n",
       "        vertical-align: middle;\n",
       "    }\n",
       "\n",
       "    .dataframe tbody tr th {\n",
       "        vertical-align: top;\n",
       "    }\n",
       "\n",
       "    .dataframe thead th {\n",
       "        text-align: right;\n",
       "    }\n",
       "</style>\n",
       "<table border=\"1\" class=\"dataframe\">\n",
       "  <thead>\n",
       "    <tr style=\"text-align: right;\">\n",
       "      <th></th>\n",
       "      <th>Row ID</th>\n",
       "      <th>Order ID</th>\n",
       "      <th>Order Date</th>\n",
       "      <th>Ship Date</th>\n",
       "      <th>Ship Mode</th>\n",
       "      <th>Customer ID</th>\n",
       "      <th>Customer Name</th>\n",
       "      <th>Segment</th>\n",
       "      <th>Country</th>\n",
       "      <th>City</th>\n",
       "      <th>...</th>\n",
       "      <th>Product ID</th>\n",
       "      <th>Category</th>\n",
       "      <th>Sub-Category</th>\n",
       "      <th>Product Name</th>\n",
       "      <th>Sales</th>\n",
       "      <th>Quantity</th>\n",
       "      <th>Discount</th>\n",
       "      <th>Profit</th>\n",
       "      <th>Manager</th>\n",
       "      <th>Returned</th>\n",
       "    </tr>\n",
       "  </thead>\n",
       "  <tbody>\n",
       "    <tr>\n",
       "      <th>0</th>\n",
       "      <td>1</td>\n",
       "      <td>CA-2018-152156</td>\n",
       "      <td>08.11.2018</td>\n",
       "      <td>11.11.2018</td>\n",
       "      <td>Second Class</td>\n",
       "      <td>CG-12520</td>\n",
       "      <td>Claire Gute</td>\n",
       "      <td>Consumer</td>\n",
       "      <td>United States</td>\n",
       "      <td>Henderson</td>\n",
       "      <td>...</td>\n",
       "      <td>FUR-BO-10001798</td>\n",
       "      <td>Furniture</td>\n",
       "      <td>Bookcases</td>\n",
       "      <td>Bush Somerset Collection Bookcase</td>\n",
       "      <td>261,96</td>\n",
       "      <td>2</td>\n",
       "      <td>0</td>\n",
       "      <td>41,9136</td>\n",
       "      <td>Cassandra Brandow</td>\n",
       "      <td>No</td>\n",
       "    </tr>\n",
       "    <tr>\n",
       "      <th>1</th>\n",
       "      <td>2</td>\n",
       "      <td>CA-2018-152156</td>\n",
       "      <td>08.11.2018</td>\n",
       "      <td>11.11.2018</td>\n",
       "      <td>Second Class</td>\n",
       "      <td>CG-12520</td>\n",
       "      <td>Claire Gute</td>\n",
       "      <td>Consumer</td>\n",
       "      <td>United States</td>\n",
       "      <td>Henderson</td>\n",
       "      <td>...</td>\n",
       "      <td>FUR-CH-10000454</td>\n",
       "      <td>Furniture</td>\n",
       "      <td>Chairs</td>\n",
       "      <td>Hon Deluxe Fabric Upholstered Stacking Chairs,...</td>\n",
       "      <td>731,94</td>\n",
       "      <td>3</td>\n",
       "      <td>0</td>\n",
       "      <td>219,582</td>\n",
       "      <td>Cassandra Brandow</td>\n",
       "      <td>No</td>\n",
       "    </tr>\n",
       "    <tr>\n",
       "      <th>2</th>\n",
       "      <td>3</td>\n",
       "      <td>CA-2018-138688</td>\n",
       "      <td>12.06.2018</td>\n",
       "      <td>16.06.2018</td>\n",
       "      <td>Second Class</td>\n",
       "      <td>DV-13045</td>\n",
       "      <td>Darrin Van Huff</td>\n",
       "      <td>Corporate</td>\n",
       "      <td>United States</td>\n",
       "      <td>Los Angeles</td>\n",
       "      <td>...</td>\n",
       "      <td>OFF-LA-10000240</td>\n",
       "      <td>Office Supplies</td>\n",
       "      <td>Labels</td>\n",
       "      <td>Self-Adhesive Address Labels for Typewriters b...</td>\n",
       "      <td>14,62</td>\n",
       "      <td>2</td>\n",
       "      <td>0</td>\n",
       "      <td>6,8714</td>\n",
       "      <td>Anna Andreadi</td>\n",
       "      <td>No</td>\n",
       "    </tr>\n",
       "    <tr>\n",
       "      <th>3</th>\n",
       "      <td>4</td>\n",
       "      <td>US-2017-108966</td>\n",
       "      <td>11.10.2017</td>\n",
       "      <td>18.10.2017</td>\n",
       "      <td>Standard Class</td>\n",
       "      <td>SO-20335</td>\n",
       "      <td>Sean O'Donnell</td>\n",
       "      <td>Consumer</td>\n",
       "      <td>United States</td>\n",
       "      <td>Fort Lauderdale</td>\n",
       "      <td>...</td>\n",
       "      <td>FUR-TA-10000577</td>\n",
       "      <td>Furniture</td>\n",
       "      <td>Tables</td>\n",
       "      <td>Bretford CR4500 Series Slim Rectangular Table</td>\n",
       "      <td>957,5775</td>\n",
       "      <td>5</td>\n",
       "      <td>0,45</td>\n",
       "      <td>-383,031</td>\n",
       "      <td>Cassandra Brandow</td>\n",
       "      <td>No</td>\n",
       "    </tr>\n",
       "    <tr>\n",
       "      <th>4</th>\n",
       "      <td>5</td>\n",
       "      <td>US-2017-108966</td>\n",
       "      <td>11.10.2017</td>\n",
       "      <td>18.10.2017</td>\n",
       "      <td>Standard Class</td>\n",
       "      <td>SO-20335</td>\n",
       "      <td>Sean O'Donnell</td>\n",
       "      <td>Consumer</td>\n",
       "      <td>United States</td>\n",
       "      <td>Fort Lauderdale</td>\n",
       "      <td>...</td>\n",
       "      <td>OFF-ST-10000760</td>\n",
       "      <td>Office Supplies</td>\n",
       "      <td>Storage</td>\n",
       "      <td>Eldon Fold 'N Roll Cart System</td>\n",
       "      <td>22,368</td>\n",
       "      <td>2</td>\n",
       "      <td>0,2</td>\n",
       "      <td>2,5164</td>\n",
       "      <td>Cassandra Brandow</td>\n",
       "      <td>No</td>\n",
       "    </tr>\n",
       "  </tbody>\n",
       "</table>\n",
       "<p>5 rows × 23 columns</p>\n",
       "</div>"
      ],
      "text/plain": [
       "   Row ID        Order ID  Order Date   Ship Date       Ship Mode Customer ID  \\\n",
       "0       1  CA-2018-152156  08.11.2018  11.11.2018    Second Class    CG-12520   \n",
       "1       2  CA-2018-152156  08.11.2018  11.11.2018    Second Class    CG-12520   \n",
       "2       3  CA-2018-138688  12.06.2018  16.06.2018    Second Class    DV-13045   \n",
       "3       4  US-2017-108966  11.10.2017  18.10.2017  Standard Class    SO-20335   \n",
       "4       5  US-2017-108966  11.10.2017  18.10.2017  Standard Class    SO-20335   \n",
       "\n",
       "     Customer Name    Segment        Country             City  ...  \\\n",
       "0      Claire Gute   Consumer  United States        Henderson  ...   \n",
       "1      Claire Gute   Consumer  United States        Henderson  ...   \n",
       "2  Darrin Van Huff  Corporate  United States      Los Angeles  ...   \n",
       "3   Sean O'Donnell   Consumer  United States  Fort Lauderdale  ...   \n",
       "4   Sean O'Donnell   Consumer  United States  Fort Lauderdale  ...   \n",
       "\n",
       "        Product ID         Category Sub-Category  \\\n",
       "0  FUR-BO-10001798        Furniture    Bookcases   \n",
       "1  FUR-CH-10000454        Furniture       Chairs   \n",
       "2  OFF-LA-10000240  Office Supplies       Labels   \n",
       "3  FUR-TA-10000577        Furniture       Tables   \n",
       "4  OFF-ST-10000760  Office Supplies      Storage   \n",
       "\n",
       "                                        Product Name     Sales Quantity  \\\n",
       "0                  Bush Somerset Collection Bookcase    261,96        2   \n",
       "1  Hon Deluxe Fabric Upholstered Stacking Chairs,...    731,94        3   \n",
       "2  Self-Adhesive Address Labels for Typewriters b...     14,62        2   \n",
       "3      Bretford CR4500 Series Slim Rectangular Table  957,5775        5   \n",
       "4                     Eldon Fold 'N Roll Cart System    22,368        2   \n",
       "\n",
       "  Discount    Profit            Manager Returned  \n",
       "0        0   41,9136  Cassandra Brandow       No  \n",
       "1        0   219,582  Cassandra Brandow       No  \n",
       "2        0    6,8714      Anna Andreadi       No  \n",
       "3     0,45  -383,031  Cassandra Brandow       No  \n",
       "4      0,2    2,5164  Cassandra Brandow       No  \n",
       "\n",
       "[5 rows x 23 columns]"
      ]
     },
     "execution_count": 3,
     "metadata": {},
     "output_type": "execute_result"
    }
   ],
   "source": [
    "# смотрим первые значения, чтобы убедиться, что импорт выполнен успешно\n",
    "df.head()"
   ]
  },
  {
   "cell_type": "code",
   "execution_count": 4,
   "id": "196b4926",
   "metadata": {},
   "outputs": [
    {
     "data": {
      "text/plain": [
       "Row ID             int64\n",
       "Order ID          object\n",
       "Order Date        object\n",
       "Ship Date         object\n",
       "Ship Mode         object\n",
       "Customer ID       object\n",
       "Customer Name     object\n",
       "Segment           object\n",
       "Country           object\n",
       "City              object\n",
       "State             object\n",
       "Postal Code      float64\n",
       "Region            object\n",
       "Product ID        object\n",
       "Category          object\n",
       "Sub-Category      object\n",
       "Product Name      object\n",
       "Sales             object\n",
       "Quantity           int64\n",
       "Discount          object\n",
       "Profit            object\n",
       "Manager           object\n",
       "Returned          object\n",
       "dtype: object"
      ]
     },
     "execution_count": 4,
     "metadata": {},
     "output_type": "execute_result"
    }
   ],
   "source": [
    "# посмотрим на тип данных в которые Pandas автоматически преобразовал наши данные\n",
    "# видим, что можно улучшить - Order Date и Ship Date преобразовать в datetime\n",
    "# а Sales, Profit и Discount в float\n",
    "df.dtypes"
   ]
  },
  {
   "cell_type": "code",
   "execution_count": 5,
   "id": "0537c735",
   "metadata": {},
   "outputs": [],
   "source": [
    "# превращаем object в datetime\n",
    "df['Order Date'] = pd.to_datetime(df['Order Date'])\n",
    "df['Ship Date'] = pd.to_datetime(df['Ship Date'])"
   ]
  },
  {
   "cell_type": "code",
   "execution_count": 6,
   "id": "9be48796",
   "metadata": {},
   "outputs": [],
   "source": [
    "# object в int\n",
    "df['Sales'] = df['Sales'].astype(str)\n",
    "df['Sales'] = [i.replace(',','.') for i in df['Sales']]\n",
    "df['Sales'] = pd.to_numeric(df['Sales'], errors='coerce')"
   ]
  },
  {
   "cell_type": "code",
   "execution_count": 7,
   "id": "7c635491",
   "metadata": {},
   "outputs": [],
   "source": [
    "df['Discount'] = df['Discount'].astype(str)\n",
    "df['Discount'] = [i.replace(',','.') for i in df['Discount']]\n",
    "df['Discount'] = pd.to_numeric(df['Discount'], errors='coerce')"
   ]
  },
  {
   "cell_type": "code",
   "execution_count": 8,
   "id": "f98b574a",
   "metadata": {},
   "outputs": [],
   "source": [
    "df['Profit'] = df['Profit'].astype(str)\n",
    "df['Profit'] = [i.replace(',','.') for i in df['Profit']]\n",
    "df['Profit'] = pd.to_numeric(df['Profit'], errors='coerce')"
   ]
  },
  {
   "cell_type": "code",
   "execution_count": 9,
   "id": "3e0cddaa",
   "metadata": {},
   "outputs": [
    {
     "data": {
      "text/plain": [
       "Row ID                    int64\n",
       "Order ID                 object\n",
       "Order Date       datetime64[ns]\n",
       "Ship Date        datetime64[ns]\n",
       "Ship Mode                object\n",
       "Customer ID              object\n",
       "Customer Name            object\n",
       "Segment                  object\n",
       "Country                  object\n",
       "City                     object\n",
       "State                    object\n",
       "Postal Code             float64\n",
       "Region                   object\n",
       "Product ID               object\n",
       "Category                 object\n",
       "Sub-Category             object\n",
       "Product Name             object\n",
       "Sales                   float64\n",
       "Quantity                  int64\n",
       "Discount                float64\n",
       "Profit                  float64\n",
       "Manager                  object\n",
       "Returned                 object\n",
       "dtype: object"
      ]
     },
     "execution_count": 9,
     "metadata": {},
     "output_type": "execute_result"
    }
   ],
   "source": [
    "# снова смотрим наши типы данных\n",
    "df.dtypes"
   ]
  },
  {
   "cell_type": "code",
   "execution_count": 10,
   "id": "8a9252d3",
   "metadata": {},
   "outputs": [],
   "source": [
    "# теперь импортируем необходимые библиотеки для отправки данных в SQL\n",
    "import psycopg2\n",
    "from sqlalchemy import create_engine"
   ]
  },
  {
   "cell_type": "code",
   "execution_count": 11,
   "id": "9dd27237",
   "metadata": {},
   "outputs": [],
   "source": [
    "# создаем подключение\n",
    "engine = create_engine('postgresql+psycopg2://dmitrii:@127.0.0.1/dmitrii')"
   ]
  },
  {
   "cell_type": "code",
   "execution_count": null,
   "id": "11604ed9",
   "metadata": {},
   "outputs": [],
   "source": [
    "# отправляем данные и смотрим все ли прошло без ошибок\n",
    "df.to_sql('superstore', con=engine, if_exists='replace')"
   ]
  }
 ],
 "metadata": {
  "kernelspec": {
   "display_name": "Python 3 (ipykernel)",
   "language": "python",
   "name": "python3"
  },
  "language_info": {
   "codemirror_mode": {
    "name": "ipython",
    "version": 3
   },
   "file_extension": ".py",
   "mimetype": "text/x-python",
   "name": "python",
   "nbconvert_exporter": "python",
   "pygments_lexer": "ipython3",
   "version": "3.9.7"
  }
 },
 "nbformat": 4,
 "nbformat_minor": 5
}
